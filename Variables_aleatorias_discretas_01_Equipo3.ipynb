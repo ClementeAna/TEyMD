{
  "cells": [
    {
      "cell_type": "markdown",
      "metadata": {
        "id": "view-in-github",
        "colab_type": "text"
      },
      "source": [
        "<a href=\"https://colab.research.google.com/github/ClementeAna/TEyMD/blob/main/Variables_aleatorias_discretas_01_Equipo3.ipynb\" target=\"_parent\"><img src=\"https://colab.research.google.com/assets/colab-badge.svg\" alt=\"Open In Colab\"/></a>"
      ]
    },
    {
      "cell_type": "markdown",
      "id": "d50d92d5",
      "metadata": {
        "id": "d50d92d5"
      },
      "source": [
        "# Variables aleatorias discretas"
      ]
    },
    {
      "cell_type": "markdown",
      "source": [
        "Equipo 3:\n",
        "- Erika Dianney Martinez Ramos\n",
        "- Hugo Daniel Matias Rodríguez\n",
        "- Enrique Avila Torres\n",
        "- Ana Clemente Gonzalez"
      ],
      "metadata": {
        "id": "uPYFGpLw_zwU"
      },
      "id": "uPYFGpLw_zwU"
    },
    {
      "cell_type": "code",
      "execution_count": null,
      "id": "f207a80a",
      "metadata": {
        "id": "f207a80a"
      },
      "outputs": [],
      "source": [
        "import numpy as np\n",
        "import numpy.random as npr\n",
        "import scipy.stats as sps\n",
        "import matplotlib.pyplot as plt\n",
        "import random\n"
      ]
    },
    {
      "cell_type": "markdown",
      "id": "bd499bb5",
      "metadata": {
        "id": "bd499bb5"
      },
      "source": [
        "# Variable aleatoria uniforme discreta\n",
        "\n",
        "Una variable aleatoria $X$ tiene distribución uniforme discreta en el conjunto $\\{x_{1},\\dots,x_{n}\\}$ si su función de masa de probabilidades está dada por\n",
        "$$f_{X}(k)=\\mathbb{P}(X=k)=\\begin{cases}\n",
        "\\frac{1}{n} &\\quad \\text{si } k\\in\\{x_{1},\\dots,x_{n}\\} \\\\\n",
        "0 &\\quad \\text{e.o.c}\n",
        "\\end{cases}$$\n",
        "\n",
        "**Notación:** $X\\sim Unif(x_{1},\\dots,x_{n}).$\n",
        "\n",
        "Se llama uniforme porque cada uno de los posibles valores de $X$ tienen la misma probabilidad.\n",
        "\n",
        "Si $X\\sim Unif(x_{1},\\dots,x_{n})$, en este caso, se tiene:\n",
        "\t$$\\mathbb{E}[X] = \\sum_{k}kf_{X}(k)=\\frac{x_n + x_1}{2}.$$\n",
        "\ty\n",
        "\t$$\\text{Var}(X) = \\mathbb{E}[(X-\\mathbb{E}[X])^{2}] =\\sum_{k}(k-\\mathbb{E}[X])^{2}f_{X}(k)=\\frac{(x_n - x_1+1)^2-1}{12}$$\n",
        "    \n",
        "**Ejemplo** Se lleva a cabo una rifa donde los boletos están enumerados del $00$ al $99$. Si $Y$ es la variable aleatoria definida como el número del boleto ganador, entonces:  \n",
        "$$\\mathbb{P}(Y=k)=\\begin{cases}\n",
        "\t\\frac{1}{100} &\\quad \\text{si } k=00,01,\\dots,99 \\\\\n",
        "\t0 &\\quad \\text{e.o.c}\n",
        "\\end{cases}$$\n",
        "Consideremos que el premio de la rifa se determina a partir del número premiado de la siguiente forma: $X=Y+1$, donde $X$ es el monto del premio en pesos y $Y$ es el número premiado, entonces $X$ es una variable aleatoria, pues es una función de $Y$, y además se tiene\n",
        "\t$$f_{X}(k)=\\begin{cases}\n",
        "\t\t\\frac{1}{100} &\\quad \\text{si } x=1,2,\\dots,100 \\\\\n",
        "\t\t0 &\\quad \\text{e.o.c}\n",
        "\t\\end{cases}$$\n",
        "Entonces, la esperanza y varianza de $X$ están dados por:\n",
        "\t$$\\mathbb{E}[X] = \\sum_{k=1}^{100}k\\left(\\frac{1}{100}\\right) = \\frac{1}{100}\\sum_{k=1}^{100}k = \\frac{1}{100}\\left[\\frac{100(100+1)}{2}\\right] = 50.5$$\n",
        "\ty\n",
        "\t$$\\text{Var}(X) = \\mathbb{E}[X^{2}]-(\\mathbb{E}[X])^{2} = \\sum_{k=1}^{100}k^{2}\\left(\\frac{1}{100}\\right)-(50.5)^{2} = 833.25$$   \n",
        "    \n",
        "Supongamos que nos interesa calcular la probabilidad de que el premio sea mayor a $\\$80$, entonces\n",
        "\t$$\\mathbb{P}(X>80) = \\sum_{k=81}^{100}\\frac{1}{100} = \\frac{20}{100} = 0.2$$\n",
        "\tSu función de distribución esta dada por:\n",
        "\t$$F_{X}(x)=\\mathbb{P}(X\\le x)=\\begin{cases}\n",
        "\t\t0 &\\quad \\text{si } x<1 \\\\\n",
        "\t\t\\frac{x}{100} &\\quad \\text{si } x=1,2,\\dots,100\\\\ 1 &\\quad \\text{si } x>100\n",
        "\t\\end{cases}$$     "
      ]
    },
    {
      "cell_type": "markdown",
      "id": "1a2446e2",
      "metadata": {
        "id": "1a2446e2"
      },
      "source": [
        "## Variable aleatoria Bernoulli con parámetro $p\\in (0,1)$.\n",
        "\n",
        "El modelo probabilístico Bernoulli se aplica a un experimento cuyo espacio muestral está constituido sólo por dos resultados posibles, éxito y fracaso:\n",
        "\n",
        "Se considerará una v.a $X$ sobre el espacio muestral $$\\Omega=\\{\\text{éxito, fracaso}\\}$$\n",
        "de tal forma que\n",
        "* $X(\\{\\text{éxito}\\}) = 1$\n",
        "* $X(\\{\\text{fracaso}\\}) = 0$\n",
        "\n",
        "Las probabilidades asociadas a este modelo son:\n",
        "\n",
        "* $\\mathbb{P}(\\{\\text{éxito}\\}) = p$\n",
        "* $\\mathbb{P}(\\{\\text{fracaso}\\}) = 1-p$\n",
        "\n",
        "donde $0<p<1$.\n",
        "\n",
        "\n",
        "Entonces la función de densidad de masa de probabilidades de $X$ está dada por:\n",
        "\n",
        "$$f_{X}(k)=\\begin{cases}\n",
        "p &\\quad \\text{si } k=1 \\\\\n",
        "1-p &\\quad \\text{si } k=0\n",
        "\\end{cases}$$\n",
        "\n",
        "**Notación:** $X\\sim \\text{Ber}(p)$.\n",
        "\n",
        "Esta variable aleatoria es muy importante. En la practica es usada para modelar situaciones en las cuales hay dos posibles resultados como:\n",
        "* el estado de un teléfono en un momento dado: libre u ocupado.\n",
        "* una persona pueda estar enferma o sana de una determinada enfermedad.\n",
        "* la preferencia de una persona, la cual puede estar a favor o en contra de un candidato determinado.\n",
        "\n",
        "Mediante la combinación de variables aleatorias Bernoulli es posible construir otras variables aleatorias.\n",
        "\n",
        "### Esperanza y Varianza\n",
        "\n",
        "Si $X\\sim \\text{Ber}(p)$, entonces su esperanza es:\n",
        "\\begin{align*}\n",
        "\\mathbb{E}[X] = \\sum_{k=0}^{1}kf_{X}(k) = 1\\cdot p + 0\\cdot (1-p) = p.\n",
        "\\end{align*}\n",
        "\n",
        "Y su varianza se calcula usando,\n",
        "$$\\mathbb{E}[X^{2}] = \\sum_{k=0}^{1}k^{2}f_{X}(k) = 1^{2}\\cdot p + 0^{2}\\cdot (1-p) = p.$$\n",
        "Por lo tanto,\n",
        "$$\\text{Var}(X)=\\mathbb{E}[X^{2}]-(\\mathbb{E}[X])^{2} = p-p^{2} = p(1-p)$$\n",
        "\n"
      ]
    },
    {
      "cell_type": "code",
      "execution_count": null,
      "id": "L-YKfMOcr8hZ",
      "metadata": {
        "colab": {
          "base_uri": "https://localhost:8080/",
          "height": 526
        },
        "id": "L-YKfMOcr8hZ",
        "outputId": "2a62a263-c43f-4d25-ba30-2a6823b03acf"
      },
      "outputs": [
        {
          "output_type": "stream",
          "name": "stdout",
          "text": [
            "Función de densidad =  [0.7 0.3]\n",
            "Esperanza = 0.3\n",
            "Varianza = 0.21\n"
          ]
        },
        {
          "output_type": "display_data",
          "data": {
            "text/plain": [
              "<Figure size 640x480 with 1 Axes>"
            ],
            "image/png": "[encoded data removed]"
          },
          "metadata": {}
        }
      ],
      "source": [
        "from scipy.stats import bernoulli\n",
        "\n",
        "#Definimos la probabilidad el éxito\n",
        "p=0.3\n",
        "\n",
        "#Calculo de la función de densidad\n",
        "x=[0,1]\n",
        "print(\"Función de densidad = \",bernoulli.pmf(x,p))\n",
        "\n",
        "#Grafica de la función de densidad\n",
        "plt.bar(x,bernoulli.pmf(x,p),width=0.05) # color=[\"r\",\"b\"]\n",
        "plt.xlabel(\"\")\n",
        "plt.ylabel(\"Probabilidad\")\n",
        "plt.title(\"Distribución bernoulli con p=0.3\")\n",
        "\n",
        "# Calculo de la espranza y varianza\n",
        "media = bernoulli.mean(p)\n",
        "var = bernoulli.var(p)\n",
        "print(\"Esperanza =\",media)\n",
        "print(\"Varianza =\",var)"
      ]
    },
    {
      "cell_type": "markdown",
      "id": "5effadd4",
      "metadata": {
        "id": "5effadd4"
      },
      "source": [
        "## Variable aleatoria Binomial con parámetros $n$ y $p\\in (0,1)$.\n",
        "\n",
        "Decimos que una v.a $X$ tiene distribución binomial con párametros $n$ y $p$, si su función de densidad de masa de probabilidades está dada por:\n",
        "$$\\begin{equation*}\n",
        "\tf_{X}(k)=\\begin{cases}\n",
        "\t\\binom{n}{k}p^{k}(1-p)^{n-k} &\\quad \\text{si } k=0,1,\\dots,n \\\\\n",
        "\t\\qquad 0 &\\quad \\text{e.o.c}  \n",
        "\t\\end{cases}\n",
        "\\end{equation*}$$\n",
        "donde $n$ es un entero positivo y $0< p< 1$.\n",
        "\n",
        "La esperanza de $X$ es:\n",
        "\\begin{align*}\n",
        "\\mathbb{E}[X]&= \\sum_{k \\mathop = 0}^n k \\binom n k p^k (1-p)^{n - k}\\\\\n",
        "&=\\sum_{k \\mathop = 1}^n k \\binom n k p^k (1-p)^{n - k}\\\\\n",
        "&= \\sum_{k \\mathop = 1}^n n \\binom {n - 1} {k - 1} p^k (1-p)^{n - k}\\\\\n",
        "&= n p \\sum_{k \\mathop = 1}^n \\binom {n - 1} {k - 1} p^{k - 1} (1-p)^{( {n - 1}) - ( {k - 1}) }\\\\\n",
        "&=n p \\sum_{j \\mathop = 0}^m \\binom m j p^j (1-p)^{m - j}\\\\\n",
        "&=np\n",
        "\\end{align*}\n",
        "\n",
        "Ahora,\n",
        "\\begin{align*}\n",
        "\\mathbb{E}[X^2]&= \\sum_{k \\mathop = 0}^n k^2 \\binom n k p^k (1-p)^{n - k}\\\\\n",
        "&=\\sum_{k \\mathop = 0}^n k n \\binom {n - 1} {k - 1} p^k (1-p)^{n - k}\\\\\n",
        "&= n p \\sum_{k \\mathop = 1}^n k \\binom {n - 1} {k - 1} p^{k - 1} (1-p)^{({n - 1}) - ({k - 1}) }\\\\\n",
        "&= n p \\sum_{j \\mathop = 0}^m ({j + 1}) \\binom m j p^j (1-p)^{m - j}\\\\\n",
        "&=n p \\left( {\\sum_{j \\mathop = 0}^m j \\binom m j p^j (1-p)^{m - j} + \\sum_{j \\mathop = 0}^m \\binom m j p^j (1-p)^{m - j} }\\right)\\\\\n",
        "&=n p \\left( {\\sum_{j \\mathop = 0}^m m \\binom {m - 1} {j - 1} p^j (1-p)^{m - j} + \\sum_{j \\mathop = 0}^m \\binom m j p^j (1-p)^{m - j} }\\right)\\\\\n",
        "&= n p \\left( (n - 1) p \\sum_{j \\mathop = 1}^m \\binom {m - 1}{j - 1} p^{j - 1} (1-p)^{( {m - 1}) - ({j - 1}) } + \\sum_{j \\mathop = 0}^m \\binom m j p^j (1-p)^{m - j}\\right) \\\\\n",
        "&= n p \\left( (n - 1) p (p + (1-p))^{m - 1} + (p + (1-p))^m\\right)\\\\\n",
        "&= n p ((n - 1) p + 1)\\\\\n",
        "&= (np)^2 +np(1-p),\n",
        "\\end{align*}\n",
        "\n",
        "por lo que la varianza de $X$ es:\n",
        "$$\\text{Var}(X)=np(1-p).$$\n",
        "\n",
        "\n",
        "**Ejemplo** Una moneda no justa se tira 6 veces, donde la probabilidad de obtener sol es de $0.3$. Sea $X$ el número de veces que cae sol, entonces $X$ tiene una distribución binomial con parámetros $n=6$ y $p=0.3$. Por lo que\n",
        "$$\\begin{align*}\n",
        "\\mathbb{P}(X=2) &= \\binom{6}{2}(0.3)^{2}(0.7)^{4}=0.3241 \\\\\n",
        "\\mathbb{P}(X=3) &= \\binom{6}{3}(0.3)^{3}(0.7)^{3}=0.1852 \\\\\n",
        "\\mathbb{P}(1<X\\le 5) &= \\mathbb{P}(X=2)+\\mathbb{P}(X=3)+\\mathbb{P}(X=4)+\\mathbb{P}(X=5) \\\\\n",
        "\t\t\t&= 0.3241 + 0.1852 + \\binom{6}{4}(0.3)^{4}(0.7)^{2} + \\binom{6}{5}(0.3)^{5}(0.7)^{1} \\\\\n",
        "\t\t\t&= 0.5093 + 0.0595 + 0.0102 = 0.579\n",
        "\\end{align*}$$"
      ]
    },
    {
      "cell_type": "code",
      "execution_count": null,
      "id": "bf5e61d8",
      "metadata": {
        "id": "bf5e61d8",
        "outputId": "21d1affb-f67e-4109-bcdd-d753560ce7c6",
        "colab": {
          "base_uri": "https://localhost:8080/",
          "height": 211
        }
      },
      "outputs": [
        {
          "output_type": "error",
          "ename": "NameError",
          "evalue": "name 'random' is not defined",
          "traceback": [
            "\u001b[0;31m---------------------------------------------------------------------------\u001b[0m",
            "\u001b[0;31mNameError\u001b[0m                                 Traceback (most recent call last)",
            "\u001b[0;32m<ipython-input-1-195ad75f0920>\u001b[0m in \u001b[0;36m<cell line: 5>\u001b[0;34m()\u001b[0m\n\u001b[1;32m      3\u001b[0m \u001b[0ms\u001b[0m \u001b[0;34m=\u001b[0m \u001b[0;36m100000\u001b[0m  \u001b[0;31m# tamaño de muestras\u001b[0m\u001b[0;34m\u001b[0m\u001b[0;34m\u001b[0m\u001b[0m\n\u001b[1;32m      4\u001b[0m \u001b[0;34m\u001b[0m\u001b[0m\n\u001b[0;32m----> 5\u001b[0;31m \u001b[0mrandom\u001b[0m\u001b[0;34m.\u001b[0m\u001b[0mseed\u001b[0m\u001b[0;34m(\u001b[0m\u001b[0;36m3\u001b[0m\u001b[0;34m)\u001b[0m\u001b[0;34m\u001b[0m\u001b[0;34m\u001b[0m\u001b[0m\n\u001b[0m\u001b[1;32m      6\u001b[0m \u001b[0mbinom_numberos\u001b[0m \u001b[0;34m=\u001b[0m \u001b[0msps\u001b[0m\u001b[0;34m.\u001b[0m\u001b[0mbinom\u001b[0m\u001b[0;34m.\u001b[0m\u001b[0mrvs\u001b[0m\u001b[0;34m(\u001b[0m\u001b[0mn\u001b[0m\u001b[0;34m,\u001b[0m \u001b[0mp\u001b[0m\u001b[0;34m,\u001b[0m \u001b[0msize\u001b[0m\u001b[0;34m=\u001b[0m\u001b[0ms\u001b[0m\u001b[0;34m)\u001b[0m \u001b[0;31m# genera variables aleatorias binomiales\u001b[0m\u001b[0;34m\u001b[0m\u001b[0;34m\u001b[0m\u001b[0m\n\u001b[1;32m      7\u001b[0m \u001b[0;34m\u001b[0m\u001b[0m\n",
            "\u001b[0;31mNameError\u001b[0m: name 'random' is not defined"
          ]
        }
      ],
      "source": [
        "n = 25  # numbero de ensayos Bernoulli\n",
        "p = 0.3  # probabilidad de éxito\n",
        "s = 100000  # tamaño de muestras\n",
        "\n",
        "random.seed(3)\n",
        "binom_numberos = sps.binom.rvs(n, p, size=s) # genera variables aleatorias binomiales\n",
        "\n",
        "plt.figure(figsize=(10, 5))\n",
        "plt.hist(\n",
        "    binom_numberos,\n",
        "    density=True,\n",
        "    bins=len(np.unique(binom_numberos)),\n",
        "    color=\"#fc9d12\",\n",
        "    edgecolor=\"grey\",\n",
        ")\n",
        "plt.xlabel(\" \")\n",
        "plt.ylabel(\"Probabilidad\")\n",
        "plt.title(\"Distribución binomial \\npara tamaño=25 y p=0.3\")\n",
        "plt.xticks(\n",
        "    np.arange(min(binom_numberos), max(binom_numberos) + 1, 2.0)\n",
        ")\n",
        "\n",
        "\n",
        "plt.show()"
      ]
    },
    {
      "cell_type": "markdown",
      "source": [
        "# Variable aleatoria Poisson\n",
        "\n",
        "Es una distribución de probabilidad discreta que  sirve para calcular la probabilidad de que ocurra un determinado número de eventos raros durante un intervalo dado (puede ser de tiempo, longitud, área, etc.\n",
        "\n",
        "Esta variable aleatoria toma los valores sobre el conjunto $\\{0,1,2,\\dots\\}$ y tiene un parámetro $\\lambda>0$, el cual representa el número de veces que se espera que ocurra un evento durante un intervalo dado.\n",
        "\n",
        "La función de masa de probabilidades de una variable aleatoria Poisson, $X$, está dada por:\n",
        "$$f_{X}(k)=\\begin{cases}\n",
        "\te^{-\\lambda}\\frac{\\lambda^{k}}{k!} &\\quad \\text{si } k=0,1,2,\\dots \\\\\n",
        "\t0 &\\quad \\text{e.o.c}  \n",
        "\\end{cases}$$\n",
        "\n",
        "En efecto, es una función de masa de probabilidades debido a que\n",
        "$$\\begin{align*}\n",
        "\\sum_{k=0}^{\\infty}e^{-\\lambda}\\frac{\\lambda^{k}}{k!} &= e^{-\\lambda}\\sum_{k=0}^{\\infty}\\frac{\\lambda^{k}}{k!} \\\\ &= e^{-\\lambda}\\underbrace{\\left(1+\\lambda+\\frac{\\lambda^{2}}{2!}+\\frac{\\lambda^{3}}{3!}+\\cdots\\right)}_{\\text{desarrollo de Taylor de }e^{\\lambda}} \\\\ &= e^{-\\lambda}e^{\\lambda}=1.\n",
        "\\end{align*}$$\n",
        "\n",
        "**Aplicaciones**\n",
        "\n",
        "**Ejemplo:** Supongamos que el número de accidentes que ocurre en un punto tiene una distribución Poisson con parámetro $\\lambda=2$.\n",
        "* ¿Cuál es la probabilidad de que en un día ocurran más de dos accidentes?\n",
        "  $$\\begin{align*}\n",
        "\t\\mathbb{P}(X>2) &= 1-\\mathbb{P}(X\\le 2) \\\\ &=1-\\left[\\mathbb{P}(X=0)+\\mathbb{P}(X=1)+\\mathbb{P}(X=2)\\right] \\\\ &= 1-\\left[\\frac{e^{-2}2^{0}}{0!}+\\frac{e^{-2}2^{1}}{1!}+\\frac{e^{-2}2^{2}}{2!}\\right] \\\\ &= 1-e^{-2}\\left[1+2+2\\right] = 1-5e^{-2} = 0.3233\n",
        "  \\end{align*}$$\n",
        "\n",
        "* ¿Cuál es la probabilidad de que en un día ocurran más de dos accidentes, sabiendo que ocurre por lo menos uno?\n",
        "$$\\begin{align*}\n",
        "\\mathbb{P}(X>2 \\mid X\\ge 1) = \\frac{\\mathbb{P}(X>2 \\mid X\\ge 1)}{\\mathbb{P}(X\\ge 1)} = \\frac{\\mathbb{P}(X>2)}{\\mathbb{P}(X\\ge 1)} = \\frac{1-5e^{-2}}{1-e^{-2}} = \\frac{0.3233}{0.8646} = 0.3739\n",
        "\\end{align*}$$\n",
        "ya que $\\mathbb{P}(X\\ge 1)=1-\\mathbb{P}(X<1)=1-\\mathbb{P}(X=0)=1-e^{-2}$\n",
        "\n",
        "## Aproximación de Poisson a la Binomial\n",
        "La distribución de Poisson es una forma límite de la distribución binomial, es decir, es una buena aproximación cuando $n$ es suficientemente grande y $p$ suficientemente pequeña.\n",
        "\n",
        "$\\textbf{Teorema (Poisson).-}$ Sean $S_{n}\\sim Bin(n,p_{n})$ bajo el regimen $$\\lim_{n\\to \\infty}np_{n}=\\lambda>0.$$\n",
        "Consideremos la siguiente sucesión de números reales:\n",
        "$$a_{j}(n,p_n)=\\begin{cases}\\binom{n}{j}(p_n)^{j}(1-p_{n})^{n-j} & j\\leq n\\\\\n",
        "0 & j\\geq n+1\\end{cases}$$\n",
        "\n",
        " Entonces,\n",
        " $$\\lim_{n\\to \\infty}a_{j}(n,p_n)=a_{j}=e^{-\\lambda}\\frac{\\lambda^{j}}{j!} \\ \\ \\forall j\\in \\mathbb{N}.$$\n",
        "\n",
        " El teorema anterior implica que la distribución de Poisson ofrece un modelo probabilístico adecuado para todos aquellos experimentos aleatorios \ten los que las repeticiones son independientes unas de otras y en los \tque sólo hay dos posibles resultados: éxito o fracaso, con probabilidad de \téxito pequeña, y en los que el interés se centra en conocer el número de éxitos obtenidos al realizar el experimento un número suficientemente grande de veces.\n",
        "\n",
        "Empíricamente se ha establecido, que la aproximación se puede aplicar con seguridad si $n\\ge100$, $p\\le 0.01$ y $np \\le20$.\n",
        "\n",
        "**Ejemplo** Supongamos que la probabilidad de que un producto producido por cierta máquina es defectuoso es de $0.1$. ¿Cuál es la probabilidad de que un lote de 10 productos contenga a lo más un producto defectuoso?\n",
        "\n",
        "Sea $X$ el número de productos defectuosos, y sabemos que $X$ tiene una distribución binomial con parámetros $n=10$ y $p=0.1$, entonces\n",
        "\\begin{align*}\n",
        "\\mathbb{P}(X\\le 1) &= \\mathbb{P}(X=0)+\\mathbb{P}(X=1) \\\\ &= \\binom{10}{0}(0.1)^{0}(0.9)^{10-0}+\\binom{10}{1}(0.1)^{1}(0.9)^{10-1} \\\\ &= 0.7361\n",
        "\t\\end{align*}\n",
        "\n",
        "Ahora, con la distribución Poisson, tenemos que $\\lambda=10(0.1)=1$, por lo que\n",
        "$$\\mathbb{P}(X\\le 1) = \\mathbb{P}(X=0)+\\mathbb{P}(X=1) = \\frac{e^{-1}1^{0}}{0!}+\\frac{e^{-1}1^{1}}{1!} = e^{-1}+e^{-1} =0.7358$$\n"
      ],
      "metadata": {
        "id": "73pLB0Hmg5e4"
      },
      "id": "73pLB0Hmg5e4"
    },
    {
      "cell_type": "code",
      "source": [
        "# Simulación de la aproximación\n",
        "param=3\n",
        "n=1000\n",
        "N=5000\n",
        "\n",
        "X=npr.binomial(n,param/n,N)\n",
        "\n",
        "counts = np.bincount(X) / float(N)\n",
        "x = np.arange(len(counts))\n",
        "f_x = sps.poisson.pmf(x, param)\n",
        "plt.close()\n",
        "plt.bar(x - 0.5, counts, width=1., label=\"ley empírica\")\n",
        "p2 = plt.stem(x, f_x, \"r\", label=\"ley teórica\")\n",
        "plt.legend()\n",
        "plt.show()"
      ],
      "metadata": {
        "colab": {
          "base_uri": "https://localhost:8080/",
          "height": 451
        },
        "id": "ZgZy5YC7hpNY",
        "outputId": "c88dada0-9b4a-4ebe-977d-8165598f5797"
      },
      "id": "ZgZy5YC7hpNY",
      "execution_count": null,
      "outputs": [
        {
          "output_type": "display_data",
          "data": {
            "text/plain": [
              "<Figure size 640x480 with 1 Axes>"
            ],
            "image/png": "[encoded data removed]"
          },
          "metadata": {}
        }
      ]
    },
    {
      "cell_type": "markdown",
      "source": [
        "**Ejercicios:**\n",
        "\n",
        "1.- Dibuja la función de distribución acumulada de una variable aleatoria $X\\sim \\text{Binom}(3,0.3)$. Calcula $\\mathbb{P}(X\\leq 2)$.\n",
        "\n",
        "2.- Determina si la variable aleatoria dada es una variable aleatoria binomial. Si es así, da los valores de los parámetros $n$ y $p$. Si no es binomial, justifica tu respuesta.\n",
        " - $X$ es el número de canicas negras en una muestra de $5$ canicas extraídas al azar y sin reemplazo de una caja que contiene $25$ canicas blancas y $15$ canicas negras.\n",
        "\n",
        "- $X$ es el número de canicas negras en una muestra de 5\n",
        " canicas extraídas al azar y con reemplazo de una caja que contiene $25$\n",
        " canicas blancas y $15$\n",
        " canicas negras.\n",
        "\n",
        "- $X$ es el número de votantes a favor de la ley propuesta en una muestra de $1200$ votantes seleccionados aleatoriamente de todo el electorado de un país en el que el $35\\%$ de los votantes están a favor de la ley.\n",
        "\n",
        "- $X$ es el número de monedas que coinciden con al menos otra moneda cuando se lanzan cuatro monedas a la vez.\n",
        "\n",
        "3.- Investiga $5$ aplicaciones del uso de la variable aleatoria Poisson en la vida diaria y/o en tu experiencia."
      ],
      "metadata": {
        "id": "4r9FgjFEjSWl"
      },
      "id": "4r9FgjFEjSWl"
    },
    {
      "cell_type": "code",
      "source": [
        "# Dibuja la función de distribución acumulada de una variable aleatoria  𝑋∼Binom(3,0.3) . Calcula  ℙ(𝑋≤2) .\n",
        "\n",
        "import matplotlib.pyplot as plt\n",
        "from scipy.stats import binom\n",
        "\n",
        "# Parámetros de la distribución binomial\n",
        "n = 3\n",
        "p = 0.3\n",
        "\n",
        "# Valores posibles de X\n",
        "x_values = range(0, n + 1)\n",
        "\n",
        "# Probabilidades P(X = k)\n",
        "probabilities = [binom.pmf(k, n, p) for k in x_values]\n",
        "\n",
        "# Función de distribución acumulada\n",
        "cdf_values = [binom.cdf(k, n, p) for k in x_values]\n",
        "\n",
        "# Cálculo de P(X <= 2)\n",
        "P_X_leq_2 = binom.cdf(2, n, p)\n",
        "print(f\"P(X <= 2) = {P_X_leq_2}\")\n",
        "\n",
        "# Graficar la función de distribución acumulada (CDF)\n",
        "plt.step(x_values, cdf_values, where='post', label='CDF')\n",
        "plt.scatter(x_values, cdf_values, color='red')\n",
        "plt.xlabel('X')\n",
        "plt.ylabel('F(X)')\n",
        "plt.title('Función de distribución acumulada (CDF) de X ~ Binom(3, 0.3)')\n",
        "plt.grid(True)\n",
        "plt.legend()\n",
        "plt.show()"
      ],
      "metadata": {
        "id": "fx5smiOtoWAL",
        "colab": {
          "base_uri": "https://localhost:8080/",
          "height": 509
        },
        "outputId": "a29ac5b8-0197-4fa1-8359-3eee84357fef"
      },
      "id": "fx5smiOtoWAL",
      "execution_count": null,
      "outputs": [
        {
          "output_type": "stream",
          "name": "stdout",
          "text": [
            "P(X <= 2) = 0.973\n"
          ]
        },
        {
          "output_type": "display_data",
          "data": {
            "text/plain": [
              "<Figure size 640x480 with 1 Axes>"
            ],
            "image/png": "[encoded data removed]"
          },
          "metadata": {}
        }
      ]
    },
    {
      "cell_type": "markdown",
      "source": [
        " ## Solucón ejercicio 2"
      ],
      "metadata": {
        "id": "Vx_t1y_oLqUD"
      },
      "id": "Vx_t1y_oLqUD"
    },
    {
      "cell_type": "markdown",
      "source": [
        "\n",
        " - $X$ es el número de canicas negras en una muestra de $5$ canicas extraídas al azar y sin reemplazo de una caja que contiene $25$ canicas blancas y $15$ canicas negras.\n",
        "\n",
        "\n",
        " De acuerdo a la definicion de una variable aleatoria Binomial, todos los ensayos son independientes entre sí, pero en este caso como no hay reemplazo de las canicas extraidas, modifican la probabilidad de exito, que es extraer 5 canicas negras, por lo tanto, **no es una variable aleatoria Binomial**"
      ],
      "metadata": {
        "id": "7cF7GnqGKnkx"
      },
      "id": "7cF7GnqGKnkx"
    },
    {
      "cell_type": "markdown",
      "source": [
        "- $X$ es el número de canicas negras en una muestra de 5\n",
        " canicas extraídas al azar y con reemplazo de una caja que contiene $25$\n",
        " canicas blancas y $15$\n",
        " canicas negras.\n",
        "\n",
        "\n",
        " $X$ tiene una distribución binomial con parámetros:\n",
        "\n",
        "\n",
        "*   debido a que solo se haran 5 extracciones, este corresponde a nuestro numero de ensayos, es decir, $n=5$\n",
        "*   la probabilidad de exito esta determinada por la extraccion de canicas negras, tenemos 15 canicas negras, y 25 blancas, sumadas nos dan 40, es decir, que la probabilidad de exito esta dada por $p=\\frac{15 \\ canicas \\ negras}{40 \\ canicas \\ totales}=\\frac{15}{40}=0.375 $\n"
      ],
      "metadata": {
        "id": "bB5GkdsERl1v"
      },
      "id": "bB5GkdsERl1v"
    },
    {
      "cell_type": "markdown",
      "source": [
        "- $X$ es el número de votantes a favor de la ley propuesta en una muestra de $1200$ votantes seleccionados aleatoriamente de todo el electorado de un país en el que el $35\\%$ de los votantes están a favor de la ley.\n",
        "\n",
        "\n",
        "$X$ tiene uns distribucion Binomial con parametros:\n",
        "  \n",
        "*   debido a que al ser una muestra de 1200 votantes, nuestro numero de ensayos es igual a $n=1200$\n",
        "*   la probailidad de exito, esta determinada por el numero de votantes que esten a favor de la ley, en este caso $p=0.35$"
      ],
      "metadata": {
        "id": "Xgg3mWmQRpKS"
      },
      "id": "Xgg3mWmQRpKS"
    },
    {
      "cell_type": "markdown",
      "source": [
        "- $X$ es el número de monedas que coinciden con al menos otra moneda cuando se lanzan cuatro monedas a la vez.\n",
        "\n",
        "De acuerdo a la definicion de una variable aleatoria Binomial, debemos tener un numero determinado de ensayos, para observar en ellos el numero de exitos, en este caso no se nos esta proporcionando un numero fijo de enesayos; por otro lado, tampoco se nos proporciona una probabilidad de exito, por lo tanto al no cumplir con al menos una de las condiones, **no es una variable aleatoria Binomial**"
      ],
      "metadata": {
        "id": "oZF4l57UNfOv"
      },
      "id": "oZF4l57UNfOv"
    },
    {
      "cell_type": "markdown",
      "source": [
        "## Solución ejercicio 3\n",
        "Investiga  5  aplicaciones del uso de la variable aleatoria Poisson en la vida diaria y/o en tu experiencia:\n",
        "\n",
        "Como esta variable aleatoria mide el número de veces que ocurre un evento durante un intervalo definido. El intervalo puede ser tiempo, distancia, área, volumen, etc.\n",
        "\n",
        "La probabilidad de ocurrencia debe ser la misma para cualquieras intervalos de igual longitud\n",
        "\n",
        "La ocurrencia o no de cualquier intervalo es independiente de la ocurrencia o no en cualquier otro intervalo\n",
        "\n",
        "Dos eventos no pueden ocurrir exactamente al mismo tiempo\n",
        "\n",
        "Al cumplir las condiciones, podemos aplicar las fórmulas de la distribución Poisson a:\n",
        "- El número de clientes que ingresan a un supermercado en un día.\n",
        "- El número de llamadas que recibe una centro de atención a clientes en el periodo de una hora.\n",
        "- El número de vehículoss que llegan a una gasolinera en un día.\n",
        "- El número de bacterias en un volumen de un litro de agua.\n",
        "- El número de tóxinas en partes por millón en una muestra de sangre.\n",
        "\n",
        "\n"
      ],
      "metadata": {
        "id": "i6ET0YR7yGiL"
      },
      "id": "i6ET0YR7yGiL"
    },
    {
      "cell_type": "code",
      "source": [],
      "metadata": {
        "id": "11zvLWRYyGO6"
      },
      "id": "11zvLWRYyGO6",
      "execution_count": null,
      "outputs": []
    },
    {
      "cell_type": "markdown",
      "source": [],
      "metadata": {
        "id": "Qkt9mVGOLyV_"
      },
      "id": "Qkt9mVGOLyV_"
    }
  ],
  "metadata": {
    "colab": {
      "provenance": [],
      "include_colab_link": true
    },
    "kernelspec": {
      "display_name": "Python 3 (ipykernel)",
      "language": "python",
      "name": "python3"
    },
    "language_info": {
      "codemirror_mode": {
        "name": "ipython",
        "version": 3
      },
      "file_extension": ".py",
      "mimetype": "text/x-python",
      "name": "python",
      "nbconvert_exporter": "python",
      "pygments_lexer": "ipython3",
      "version": "3.9.13"
    }
  },
  "nbformat": 4,
  "nbformat_minor": 5
}